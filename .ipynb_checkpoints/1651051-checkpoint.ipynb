{
 "cells": [
  {
   "cell_type": "markdown",
   "metadata": {},
   "source": [
    "- **Student ID**: 1651051\n",
    "- **Student name**: TRINH TUAN KIET\n",
    "- **Student class**: 16CTT"
   ]
  },
  {
   "cell_type": "markdown",
   "metadata": {},
   "source": [
    "# ORB descriptor for Content-based image retrieval"
   ]
  },
  {
   "cell_type": "markdown",
   "metadata": {},
   "source": [
    "## Preparation"
   ]
  },
  {
   "cell_type": "markdown",
   "metadata": {},
   "source": [
    "Datasets: [Oxford building datasets](https://www.robots.ox.ac.uk/~vgg/data/oxbuildings/). Download the 5K images and extract into `data/ground_truth`\n",
    "\n",
    "- Groundtruth files are held in `data/ground_truth`\n",
    "- Images are held in `data/oxford_image`"
   ]
  },
  {
   "cell_type": "markdown",
   "metadata": {},
   "source": [
    "Folder structure\n",
    "\n",
    "    root\n",
    "    |- 1651051.ipynb: Contains the code, report\n",
    "    |- data: Contain the input and output of the code\n",
    "        |- ground_truth: Contain the query and evaluation.\n",
    "        |- oxford_image: Contain the image from the dataset\n",
    "        |- result: Contain the query result of the code"
   ]
  },
  {
   "cell_type": "markdown",
   "metadata": {},
   "source": [
    "## Retrieval method"
   ]
  },
  {
   "cell_type": "markdown",
   "metadata": {},
   "source": [
    "Feature are extracted from the image using **Oriented Features from accelerated segment test** (oFAST) keypoint detector and **Rotated Binary Robust Independent Elementary Features** (rBRIEF) descriptor. Then a Brute Force matcher is used to compare the query image descriptors with every other images' descriptors. The distance used here is Hamming distance. Matched pairs are those with hammer distance between them smaller than a threshold (35 in this case) and the result images is ranked using the number of matched pair of points."
   ]
  },
  {
   "cell_type": "markdown",
   "metadata": {},
   "source": [
    "- Step 1: Compute the ORB descriptors\n",
    "- Step 2: Compare the descriptors of query and in-database images\n",
    "- Step 3: Filter out those pair with Hamming distance smaller than threshold\n",
    "- Step 4: Rank the result according to number of matched point\n",
    "- Step 5: Evaluate"
   ]
  },
  {
   "cell_type": "markdown",
   "metadata": {},
   "source": [
    "## Result"
   ]
  },
  {
   "cell_type": "markdown",
   "metadata": {},
   "source": [
    "mAP@5: 0.44\n",
    "\n",
    "    {'all_souls_1_query.txt': {'good': 0, 'ok': 1, 'AP': 0.2},\n",
    "     'all_souls_2_query.txt': {'good': 4, 'ok': 1, 'AP': 1.0},\n",
    "     'all_souls_3_query.txt': {'good': 4, 'ok': 1, 'AP': 1.0},\n",
    "     'all_souls_4_query.txt': {'good': 0, 'ok': 5, 'AP': 1.0},\n",
    "     'all_souls_5_query.txt': {'good': 1, 'ok': 2, 'AP': 0.6},\n",
    "     'ashmolean_1_query.txt': {'good': 1, 'ok': 0, 'AP': 0.2},\n",
    "     'ashmolean_2_query.txt': {'good': 3, 'ok': 0, 'AP': 0.6},\n",
    "     'ashmolean_3_query.txt': {'good': 1, 'ok': 1, 'AP': 0.4},\n",
    "     'ashmolean_4_query.txt': {'good': 1, 'ok': 1, 'AP': 0.4},\n",
    "     'ashmolean_5_query.txt': {'good': 1, 'ok': 1, 'AP': 0.4},\n",
    "     'balliol_1_query.txt': {'good': 0, 'ok': 0, 'AP': 0.0},\n",
    "     'balliol_2_query.txt': {'good': 0, 'ok': 1, 'AP': 0.2},\n",
    "     'balliol_3_query.txt': {'good': 0, 'ok': 0, 'AP': 0.0},\n",
    "     'balliol_4_query.txt': {'good': 0, 'ok': 1, 'AP': 0.2},\n",
    "     'balliol_5_query.txt': {'good': 0, 'ok': 1, 'AP': 0.2},\n",
    "     'bodleian_1_query.txt': {'good': 0, 'ok': 0, 'AP': 0.0},\n",
    "     'bodleian_2_query.txt': {'good': 2, 'ok': 1, 'AP': 0.6},\n",
    "     'bodleian_3_query.txt': {'good': 2, 'ok': 1, 'AP': 0.6},\n",
    "     'bodleian_4_query.txt': {'good': 0, 'ok': 0, 'AP': 0.0},\n",
    "     'bodleian_5_query.txt': {'good': 1, 'ok': 0, 'AP': 0.2},\n",
    "     'christ_church_1_query.txt': {'good': 3, 'ok': 1, 'AP': 0.8},\n",
    "     'christ_church_2_query.txt': {'good': 1, 'ok': 0, 'AP': 0.2},\n",
    "     'christ_church_3_query.txt': {'good': 1, 'ok': 1, 'AP': 0.4},\n",
    "     'christ_church_4_query.txt': {'good': 1, 'ok': 0, 'AP': 0.2},\n",
    "     'christ_church_5_query.txt': {'good': 0, 'ok': 1, 'AP': 0.2},\n",
    "     'cornmarket_1_query.txt': {'good': 1, 'ok': 0, 'AP': 0.2},\n",
    "     'cornmarket_2_query.txt': {'good': 0, 'ok': 1, 'AP': 0.2},\n",
    "     'cornmarket_3_query.txt': {'good': 1, 'ok': 0, 'AP': 0.2},\n",
    "     'cornmarket_4_query.txt': {'good': 1, 'ok': 0, 'AP': 0.2},\n",
    "     'cornmarket_5_query.txt': {'good': 1, 'ok': 1, 'AP': 0.4},\n",
    "     'hertford_1_query.txt': {'good': 4, 'ok': 1, 'AP': 1.0},\n",
    "     'hertford_2_query.txt': {'good': 5, 'ok': 0, 'AP': 1.0},\n",
    "     'hertford_3_query.txt': {'good': 4, 'ok': 1, 'AP': 1.0},\n",
    "     'hertford_4_query.txt': {'good': 5, 'ok': 0, 'AP': 1.0},\n",
    "     'hertford_5_query.txt': {'good': 4, 'ok': 0, 'AP': 0.8},\n",
    "     'keble_1_query.txt': {'good': 1, 'ok': 0, 'AP': 0.2},\n",
    "     'keble_2_query.txt': {'good': 0, 'ok': 0, 'AP': 0.0},\n",
    "     'keble_3_query.txt': {'good': 0, 'ok': 0, 'AP': 0.0},\n",
    "     'keble_4_query.txt': {'good': 0, 'ok': 0, 'AP': 0.0},\n",
    "     'keble_5_query.txt': {'good': 0, 'ok': 0, 'AP': 0.0},\n",
    "     'magdalen_1_query.txt': {'good': 0, 'ok': 0, 'AP': 0.0},\n",
    "     'magdalen_2_query.txt': {'good': 0, 'ok': 3, 'AP': 0.6},\n",
    "     'magdalen_3_query.txt': {'good': 1, 'ok': 3, 'AP': 0.8},\n",
    "     'magdalen_4_query.txt': {'good': 0, 'ok': 0, 'AP': 0.0},\n",
    "     'magdalen_5_query.txt': {'good': 1, 'ok': 1, 'AP': 0.4},\n",
    "     'pitt_rivers_1_query.txt': {'good': 0, 'ok': 0, 'AP': 0.0},\n",
    "     'pitt_rivers_2_query.txt': {'good': 1, 'ok': 2, 'AP': 0.6},\n",
    "     'pitt_rivers_3_query.txt': {'good': 1, 'ok': 0, 'AP': 0.2},\n",
    "     'pitt_rivers_4_query.txt': {'good': 1, 'ok': 2, 'AP': 0.6},\n",
    "     'pitt_rivers_5_query.txt': {'good': 1, 'ok': 2, 'AP': 0.6},\n",
    "     'radcliffe_camera_1_query.txt': {'good': 5, 'ok': 0, 'AP': 1.0},\n",
    "     'radcliffe_camera_2_query.txt': {'good': 2, 'ok': 3, 'AP': 1.0},\n",
    "     'radcliffe_camera_3_query.txt': {'good': 5, 'ok': 0, 'AP': 1.0},\n",
    "     'radcliffe_camera_4_query.txt': {'good': 2, 'ok': 2, 'AP': 0.8},\n",
    "     'radcliffe_camera_5_query.txt': {'good': 5, 'ok': 0, 'AP': 1.0}}"
   ]
  },
  {
   "cell_type": "markdown",
   "metadata": {},
   "source": [
    "Some query group such as `radcliffe_camera` and `hertford` give excellent result while `balliol` and `keble` give very poor result"
   ]
  },
  {
   "cell_type": "markdown",
   "metadata": {},
   "source": [
    "- Match from different perspective and lighting  (taken from the result of this code, `radcliffe` and `hertford`)\n",
    "![radcliffe_0](radcliffe_camera_4_query_top_1.png)\n",
    "![radcliffe_1](radcliffe_camera_5_query_top_5.png)\n",
    "![hertford_0](hertford_1_query_top_2.png)\n",
    "![hertford_1](hertford_5_query_top_1.png)"
   ]
  },
  {
   "cell_type": "markdown",
   "metadata": {},
   "source": [
    "- Some failed match\n",
    "![failed_0](keble_4_query_top_3.png)\n",
    "![failed_1](christ_church_4_query_top_1.png)\n",
    "![failed_2](all_souls_1_query_top_5.png)"
   ]
  },
  {
   "cell_type": "markdown",
   "metadata": {},
   "source": [
    "## Conclusion"
   ]
  },
  {
   "cell_type": "markdown",
   "metadata": {},
   "source": [
    "The ORB descriptor has potential for Content-based image retrieval system due to simplicity, free (no patent) and fast to compute (compare to SIFT). There are rooms to improve of this implementation such as:\n",
    "- Better matching algorithm (faster than Brute Force matcher)\n",
    "- Better ranking system (by clustering using K-Means or Decision Trees)\n",
    "- Image database (so that descriptor data can be written to disk, lower memory consumption)"
   ]
  },
  {
   "cell_type": "markdown",
   "metadata": {},
   "source": [
    "# Implementation"
   ]
  },
  {
   "cell_type": "code",
   "execution_count": 1,
   "metadata": {},
   "outputs": [],
   "source": [
    "import cv2\n",
    "import numpy as np\n",
    "import matplotlib.pyplot as plt\n",
    "import os\n",
    "from tqdm.notebook import tqdm_notebook"
   ]
  },
  {
   "cell_type": "markdown",
   "metadata": {},
   "source": [
    "## Helper function"
   ]
  },
  {
   "cell_type": "code",
   "execution_count": 2,
   "metadata": {},
   "outputs": [],
   "source": [
    "def load_image(image_file_name):\n",
    "    return cv2.imread('data/oxford_image/%s' % image_file_name, cv2.IMREAD_COLOR)"
   ]
  },
  {
   "cell_type": "code",
   "execution_count": 3,
   "metadata": {},
   "outputs": [],
   "source": [
    "def show_image(img):\n",
    "    # change color channel from RGB -> BGR\n",
    "    plt.imshow(img[..., ::-1])"
   ]
  },
  {
   "cell_type": "code",
   "execution_count": 4,
   "metadata": {},
   "outputs": [],
   "source": [
    "def crop_image(img, x1, y1, x2, y2):\n",
    "    return img[int(y1):int(y2), int(x1):int(x2)]"
   ]
  },
  {
   "cell_type": "code",
   "execution_count": 5,
   "metadata": {},
   "outputs": [],
   "source": [
    "def get_query_kp_des(query_file):\n",
    "    global orb\n",
    "    with open('data/ground_truth/%s' % query_file, 'r') as f:\n",
    "        query = f.read()\n",
    "    \n",
    "    component = query.strip('\\n').split(' ')\n",
    "    \n",
    "    query_image = crop_image(\n",
    "        load_image(component[0][5:] + '.jpg'),\n",
    "        float(component[1]),\n",
    "        float(component[2]),\n",
    "        float(component[3]),\n",
    "        float(component[4])\n",
    "    )\n",
    "    \n",
    "    return query_image, orb.detectAndCompute(query_image ,None)"
   ]
  },
  {
   "cell_type": "code",
   "execution_count": 6,
   "metadata": {},
   "outputs": [],
   "source": [
    "def get_truth(truth_file):\n",
    "    with open('data/ground_truth/%s' % truth_file, 'r') as f:\n",
    "        truth = f.read()\n",
    "        \n",
    "    return truth.strip('\\n').split('\\n')"
   ]
  },
  {
   "cell_type": "code",
   "execution_count": 7,
   "metadata": {},
   "outputs": [],
   "source": [
    "def get_AP(result_array, query, count):\n",
    "    name = query[:-10]\n",
    "    \n",
    "    good = get_truth(name+ '_good.txt')\n",
    "    ok = get_truth(name + '_ok.txt')\n",
    "    \n",
    "    correct = 0\n",
    "    good_cnt = 0\n",
    "    ok_cnt = 0\n",
    "    \n",
    "    for i in range(count):\n",
    "        if result_array[i][0][:-4] in good:\n",
    "            correct += 1\n",
    "            good_cnt += 1\n",
    "        elif result_array[i][0][:-4] in ok:\n",
    "            correct+= 1\n",
    "            ok_cnt += 1\n",
    "            \n",
    "    return correct/5, good_cnt, ok_cnt"
   ]
  },
  {
   "cell_type": "markdown",
   "metadata": {},
   "source": [
    "## Extract key point and descriptor for every in-database image"
   ]
  },
  {
   "cell_type": "markdown",
   "metadata": {},
   "source": [
    "Create ORB descriptor object to extract from the image"
   ]
  },
  {
   "cell_type": "code",
   "execution_count": 8,
   "metadata": {},
   "outputs": [],
   "source": [
    "orb = cv2.ORB_create()"
   ]
  },
  {
   "cell_type": "markdown",
   "metadata": {},
   "source": [
    "Select appropiate sub sample size (because the dataset is large)"
   ]
  },
  {
   "cell_type": "code",
   "execution_count": 9,
   "metadata": {},
   "outputs": [],
   "source": [
    "sub_sample_size = 0.5\n",
    "all_images = os.listdir('data/oxford_image/')\n",
    "# since cannot load all images into memory, only load 10%\n",
    "index = np.random.uniform(low=0, high=1, size=(len(all_images))) < sub_sample_size"
   ]
  },
  {
   "cell_type": "markdown",
   "metadata": {},
   "source": [
    "Load everything into the memory"
   ]
  },
  {
   "cell_type": "code",
   "execution_count": 10,
   "metadata": {},
   "outputs": [
    {
     "data": {
      "application/vnd.jupyter.widget-view+json": {
       "model_id": "5dfed26f107640cbbdaa42a00b33de33",
       "version_major": 2,
       "version_minor": 0
      },
      "text/plain": [
       "HBox(children=(FloatProgress(value=0.0, max=2508.0), HTML(value='')))"
      ]
     },
     "metadata": {},
     "output_type": "display_data"
    },
    {
     "name": "stdout",
     "output_type": "stream",
     "text": [
      "\n"
     ]
    }
   ],
   "source": [
    "kp_dict = {}\n",
    "des_dict = {}\n",
    "image_dict = {}\n",
    "\n",
    "for image_file_name in tqdm_notebook([a for a, i in zip(all_images, index) if i]):\n",
    "    image = load_image(image_file_name)\n",
    "    image_dict[image_file_name] = image\n",
    "    kp_dict[image_file_name], des_dict[image_file_name] = orb.detectAndCompute(image ,None)"
   ]
  },
  {
   "cell_type": "markdown",
   "metadata": {},
   "source": [
    "## Query"
   ]
  },
  {
   "cell_type": "code",
   "execution_count": 11,
   "metadata": {},
   "outputs": [],
   "source": [
    "all_query = [x for x in os.listdir('data/ground_truth/') if '_query.txt' in x]"
   ]
  },
  {
   "cell_type": "markdown",
   "metadata": {},
   "source": [
    "Using a Brute Force matcher for comparing between descriptor of key points. The distance used here is Hamming distance because ORB descriptor is binary rather than vector"
   ]
  },
  {
   "cell_type": "code",
   "execution_count": 12,
   "metadata": {},
   "outputs": [],
   "source": [
    "bf = cv2.BFMatcher(cv2.NORM_HAMMING, crossCheck=True)"
   ]
  },
  {
   "cell_type": "markdown",
   "metadata": {},
   "source": [
    "Run all 55 query and compute AP of top 5 result. The result image is saved in `data/result` for further checking"
   ]
  },
  {
   "cell_type": "code",
   "execution_count": 17,
   "metadata": {},
   "outputs": [],
   "source": [
    "threshold = 35"
   ]
  },
  {
   "cell_type": "code",
   "execution_count": 18,
   "metadata": {
    "scrolled": true
   },
   "outputs": [
    {
     "data": {
      "application/vnd.jupyter.widget-view+json": {
       "model_id": "c9d9a2cb863448fabb1e763b71548a15",
       "version_major": 2,
       "version_minor": 0
      },
      "text/plain": [
       "HBox(children=(FloatProgress(value=0.0, max=55.0), HTML(value='')))"
      ]
     },
     "metadata": {},
     "output_type": "display_data"
    },
    {
     "data": {
      "application/vnd.jupyter.widget-view+json": {
       "model_id": "733aebccc9254b838b457a92a3e20bad",
       "version_major": 2,
       "version_minor": 0
      },
      "text/plain": [
       "HBox(children=(FloatProgress(value=0.0, max=2508.0), HTML(value='')))"
      ]
     },
     "metadata": {},
     "output_type": "display_data"
    },
    {
     "name": "stdout",
     "output_type": "stream",
     "text": [
      "\n"
     ]
    },
    {
     "data": {
      "application/vnd.jupyter.widget-view+json": {
       "model_id": "3348dcee1b54451b8e3833fffccef1bd",
       "version_major": 2,
       "version_minor": 0
      },
      "text/plain": [
       "HBox(children=(FloatProgress(value=0.0, max=2508.0), HTML(value='')))"
      ]
     },
     "metadata": {},
     "output_type": "display_data"
    },
    {
     "name": "stdout",
     "output_type": "stream",
     "text": [
      "\n"
     ]
    },
    {
     "data": {
      "application/vnd.jupyter.widget-view+json": {
       "model_id": "2e1f8c41aff640ed9a38c0c0d77f5030",
       "version_major": 2,
       "version_minor": 0
      },
      "text/plain": [
       "HBox(children=(FloatProgress(value=0.0, max=2508.0), HTML(value='')))"
      ]
     },
     "metadata": {},
     "output_type": "display_data"
    },
    {
     "name": "stdout",
     "output_type": "stream",
     "text": [
      "\n"
     ]
    },
    {
     "data": {
      "application/vnd.jupyter.widget-view+json": {
       "model_id": "76321d26db4c4f75bf626a3908701378",
       "version_major": 2,
       "version_minor": 0
      },
      "text/plain": [
       "HBox(children=(FloatProgress(value=0.0, max=2508.0), HTML(value='')))"
      ]
     },
     "metadata": {},
     "output_type": "display_data"
    },
    {
     "name": "stdout",
     "output_type": "stream",
     "text": [
      "\n"
     ]
    },
    {
     "data": {
      "application/vnd.jupyter.widget-view+json": {
       "model_id": "56b536768b594bd9a12b4b0be4b33d4f",
       "version_major": 2,
       "version_minor": 0
      },
      "text/plain": [
       "HBox(children=(FloatProgress(value=0.0, max=2508.0), HTML(value='')))"
      ]
     },
     "metadata": {},
     "output_type": "display_data"
    },
    {
     "name": "stdout",
     "output_type": "stream",
     "text": [
      "\n"
     ]
    },
    {
     "data": {
      "application/vnd.jupyter.widget-view+json": {
       "model_id": "040f363f4dc14de08884ef51c91a7bd1",
       "version_major": 2,
       "version_minor": 0
      },
      "text/plain": [
       "HBox(children=(FloatProgress(value=0.0, max=2508.0), HTML(value='')))"
      ]
     },
     "metadata": {},
     "output_type": "display_data"
    },
    {
     "name": "stdout",
     "output_type": "stream",
     "text": [
      "\n"
     ]
    },
    {
     "data": {
      "application/vnd.jupyter.widget-view+json": {
       "model_id": "743fa66c971d45d69a005f5d2e8b9c12",
       "version_major": 2,
       "version_minor": 0
      },
      "text/plain": [
       "HBox(children=(FloatProgress(value=0.0, max=2508.0), HTML(value='')))"
      ]
     },
     "metadata": {},
     "output_type": "display_data"
    },
    {
     "name": "stdout",
     "output_type": "stream",
     "text": [
      "\n"
     ]
    },
    {
     "data": {
      "application/vnd.jupyter.widget-view+json": {
       "model_id": "5cb969b9a46d490990b7428bfb0255e3",
       "version_major": 2,
       "version_minor": 0
      },
      "text/plain": [
       "HBox(children=(FloatProgress(value=0.0, max=2508.0), HTML(value='')))"
      ]
     },
     "metadata": {},
     "output_type": "display_data"
    },
    {
     "name": "stdout",
     "output_type": "stream",
     "text": [
      "\n"
     ]
    },
    {
     "data": {
      "application/vnd.jupyter.widget-view+json": {
       "model_id": "012bc2e2d44c44d694964321b718b822",
       "version_major": 2,
       "version_minor": 0
      },
      "text/plain": [
       "HBox(children=(FloatProgress(value=0.0, max=2508.0), HTML(value='')))"
      ]
     },
     "metadata": {},
     "output_type": "display_data"
    },
    {
     "name": "stdout",
     "output_type": "stream",
     "text": [
      "\n"
     ]
    },
    {
     "data": {
      "application/vnd.jupyter.widget-view+json": {
       "model_id": "9f455f51272f4f62aacf1d3a24532ecd",
       "version_major": 2,
       "version_minor": 0
      },
      "text/plain": [
       "HBox(children=(FloatProgress(value=0.0, max=2508.0), HTML(value='')))"
      ]
     },
     "metadata": {},
     "output_type": "display_data"
    },
    {
     "name": "stdout",
     "output_type": "stream",
     "text": [
      "\n"
     ]
    },
    {
     "data": {
      "application/vnd.jupyter.widget-view+json": {
       "model_id": "1d099dda613f4d759399aad84f3caade",
       "version_major": 2,
       "version_minor": 0
      },
      "text/plain": [
       "HBox(children=(FloatProgress(value=0.0, max=2508.0), HTML(value='')))"
      ]
     },
     "metadata": {},
     "output_type": "display_data"
    },
    {
     "name": "stdout",
     "output_type": "stream",
     "text": [
      "\n"
     ]
    },
    {
     "data": {
      "application/vnd.jupyter.widget-view+json": {
       "model_id": "37b47a91a9b747daab889bbe89632052",
       "version_major": 2,
       "version_minor": 0
      },
      "text/plain": [
       "HBox(children=(FloatProgress(value=0.0, max=2508.0), HTML(value='')))"
      ]
     },
     "metadata": {},
     "output_type": "display_data"
    },
    {
     "name": "stdout",
     "output_type": "stream",
     "text": [
      "\n"
     ]
    },
    {
     "data": {
      "application/vnd.jupyter.widget-view+json": {
       "model_id": "7b21c45dd3dc4f638a6f19a2294901fc",
       "version_major": 2,
       "version_minor": 0
      },
      "text/plain": [
       "HBox(children=(FloatProgress(value=0.0, max=2508.0), HTML(value='')))"
      ]
     },
     "metadata": {},
     "output_type": "display_data"
    },
    {
     "name": "stdout",
     "output_type": "stream",
     "text": [
      "\n"
     ]
    },
    {
     "data": {
      "application/vnd.jupyter.widget-view+json": {
       "model_id": "2fc78237463446eaa6bf8538e549c769",
       "version_major": 2,
       "version_minor": 0
      },
      "text/plain": [
       "HBox(children=(FloatProgress(value=0.0, max=2508.0), HTML(value='')))"
      ]
     },
     "metadata": {},
     "output_type": "display_data"
    },
    {
     "name": "stdout",
     "output_type": "stream",
     "text": [
      "\n"
     ]
    },
    {
     "data": {
      "application/vnd.jupyter.widget-view+json": {
       "model_id": "ab4db1dc606f4df2809a0825bbe3bd19",
       "version_major": 2,
       "version_minor": 0
      },
      "text/plain": [
       "HBox(children=(FloatProgress(value=0.0, max=2508.0), HTML(value='')))"
      ]
     },
     "metadata": {},
     "output_type": "display_data"
    },
    {
     "name": "stdout",
     "output_type": "stream",
     "text": [
      "\n"
     ]
    },
    {
     "data": {
      "application/vnd.jupyter.widget-view+json": {
       "model_id": "19360f1b1e3742ae988db4112e46b8b7",
       "version_major": 2,
       "version_minor": 0
      },
      "text/plain": [
       "HBox(children=(FloatProgress(value=0.0, max=2508.0), HTML(value='')))"
      ]
     },
     "metadata": {},
     "output_type": "display_data"
    },
    {
     "name": "stdout",
     "output_type": "stream",
     "text": [
      "\n"
     ]
    },
    {
     "data": {
      "application/vnd.jupyter.widget-view+json": {
       "model_id": "1c88ad8cb72f43df9d6074608a76abb5",
       "version_major": 2,
       "version_minor": 0
      },
      "text/plain": [
       "HBox(children=(FloatProgress(value=0.0, max=2508.0), HTML(value='')))"
      ]
     },
     "metadata": {},
     "output_type": "display_data"
    },
    {
     "name": "stdout",
     "output_type": "stream",
     "text": [
      "\n"
     ]
    },
    {
     "data": {
      "application/vnd.jupyter.widget-view+json": {
       "model_id": "6df46aff2f16465696fc2aa1f1bd1be7",
       "version_major": 2,
       "version_minor": 0
      },
      "text/plain": [
       "HBox(children=(FloatProgress(value=0.0, max=2508.0), HTML(value='')))"
      ]
     },
     "metadata": {},
     "output_type": "display_data"
    },
    {
     "name": "stdout",
     "output_type": "stream",
     "text": [
      "\n"
     ]
    },
    {
     "data": {
      "application/vnd.jupyter.widget-view+json": {
       "model_id": "eb6bfae8e94140f5b57f20154379683d",
       "version_major": 2,
       "version_minor": 0
      },
      "text/plain": [
       "HBox(children=(FloatProgress(value=0.0, max=2508.0), HTML(value='')))"
      ]
     },
     "metadata": {},
     "output_type": "display_data"
    },
    {
     "name": "stdout",
     "output_type": "stream",
     "text": [
      "\n"
     ]
    },
    {
     "data": {
      "application/vnd.jupyter.widget-view+json": {
       "model_id": "cbf427de79e54eaa8dcb8f03df86ff51",
       "version_major": 2,
       "version_minor": 0
      },
      "text/plain": [
       "HBox(children=(FloatProgress(value=0.0, max=2508.0), HTML(value='')))"
      ]
     },
     "metadata": {},
     "output_type": "display_data"
    },
    {
     "name": "stdout",
     "output_type": "stream",
     "text": [
      "\n"
     ]
    },
    {
     "data": {
      "application/vnd.jupyter.widget-view+json": {
       "model_id": "d5a249be211f452fbff1785233ef0c56",
       "version_major": 2,
       "version_minor": 0
      },
      "text/plain": [
       "HBox(children=(FloatProgress(value=0.0, max=2508.0), HTML(value='')))"
      ]
     },
     "metadata": {},
     "output_type": "display_data"
    },
    {
     "name": "stdout",
     "output_type": "stream",
     "text": [
      "\n"
     ]
    },
    {
     "data": {
      "application/vnd.jupyter.widget-view+json": {
       "model_id": "00b0d05977c340a08dfa4a13b2ad969e",
       "version_major": 2,
       "version_minor": 0
      },
      "text/plain": [
       "HBox(children=(FloatProgress(value=0.0, max=2508.0), HTML(value='')))"
      ]
     },
     "metadata": {},
     "output_type": "display_data"
    },
    {
     "name": "stdout",
     "output_type": "stream",
     "text": [
      "\n"
     ]
    },
    {
     "data": {
      "application/vnd.jupyter.widget-view+json": {
       "model_id": "e11cdc8402fa4c9f8cb52529babc2e2e",
       "version_major": 2,
       "version_minor": 0
      },
      "text/plain": [
       "HBox(children=(FloatProgress(value=0.0, max=2508.0), HTML(value='')))"
      ]
     },
     "metadata": {},
     "output_type": "display_data"
    },
    {
     "name": "stdout",
     "output_type": "stream",
     "text": [
      "\n"
     ]
    },
    {
     "data": {
      "application/vnd.jupyter.widget-view+json": {
       "model_id": "ca718994d3ec4e95883c7477d68a247a",
       "version_major": 2,
       "version_minor": 0
      },
      "text/plain": [
       "HBox(children=(FloatProgress(value=0.0, max=2508.0), HTML(value='')))"
      ]
     },
     "metadata": {},
     "output_type": "display_data"
    },
    {
     "name": "stdout",
     "output_type": "stream",
     "text": [
      "\n"
     ]
    },
    {
     "data": {
      "application/vnd.jupyter.widget-view+json": {
       "model_id": "5cb3ec186bd54227ac597cd1a7f6b3fd",
       "version_major": 2,
       "version_minor": 0
      },
      "text/plain": [
       "HBox(children=(FloatProgress(value=0.0, max=2508.0), HTML(value='')))"
      ]
     },
     "metadata": {},
     "output_type": "display_data"
    },
    {
     "name": "stdout",
     "output_type": "stream",
     "text": [
      "\n"
     ]
    },
    {
     "data": {
      "application/vnd.jupyter.widget-view+json": {
       "model_id": "f888af896ffe480fb65f734f6fa38857",
       "version_major": 2,
       "version_minor": 0
      },
      "text/plain": [
       "HBox(children=(FloatProgress(value=0.0, max=2508.0), HTML(value='')))"
      ]
     },
     "metadata": {},
     "output_type": "display_data"
    },
    {
     "name": "stdout",
     "output_type": "stream",
     "text": [
      "\n"
     ]
    },
    {
     "data": {
      "application/vnd.jupyter.widget-view+json": {
       "model_id": "746c938fd9074b8c89b4e258e0db282d",
       "version_major": 2,
       "version_minor": 0
      },
      "text/plain": [
       "HBox(children=(FloatProgress(value=0.0, max=2508.0), HTML(value='')))"
      ]
     },
     "metadata": {},
     "output_type": "display_data"
    },
    {
     "name": "stdout",
     "output_type": "stream",
     "text": [
      "\n"
     ]
    },
    {
     "data": {
      "application/vnd.jupyter.widget-view+json": {
       "model_id": "fc187008c59349b7b058b427033cf600",
       "version_major": 2,
       "version_minor": 0
      },
      "text/plain": [
       "HBox(children=(FloatProgress(value=0.0, max=2508.0), HTML(value='')))"
      ]
     },
     "metadata": {},
     "output_type": "display_data"
    },
    {
     "name": "stdout",
     "output_type": "stream",
     "text": [
      "\n"
     ]
    },
    {
     "data": {
      "application/vnd.jupyter.widget-view+json": {
       "model_id": "4d19345d65024b6e8ccb0827c3a69e9c",
       "version_major": 2,
       "version_minor": 0
      },
      "text/plain": [
       "HBox(children=(FloatProgress(value=0.0, max=2508.0), HTML(value='')))"
      ]
     },
     "metadata": {},
     "output_type": "display_data"
    },
    {
     "name": "stdout",
     "output_type": "stream",
     "text": [
      "\n"
     ]
    },
    {
     "data": {
      "application/vnd.jupyter.widget-view+json": {
       "model_id": "93587409f9784192a427bc9bdac2c76d",
       "version_major": 2,
       "version_minor": 0
      },
      "text/plain": [
       "HBox(children=(FloatProgress(value=0.0, max=2508.0), HTML(value='')))"
      ]
     },
     "metadata": {},
     "output_type": "display_data"
    },
    {
     "name": "stdout",
     "output_type": "stream",
     "text": [
      "\n"
     ]
    },
    {
     "data": {
      "application/vnd.jupyter.widget-view+json": {
       "model_id": "9e00b550bf9b4811a6608e7f1cb95129",
       "version_major": 2,
       "version_minor": 0
      },
      "text/plain": [
       "HBox(children=(FloatProgress(value=0.0, max=2508.0), HTML(value='')))"
      ]
     },
     "metadata": {},
     "output_type": "display_data"
    },
    {
     "name": "stdout",
     "output_type": "stream",
     "text": [
      "\n"
     ]
    },
    {
     "data": {
      "application/vnd.jupyter.widget-view+json": {
       "model_id": "92b77ab32e114afd93bc9789a84ff097",
       "version_major": 2,
       "version_minor": 0
      },
      "text/plain": [
       "HBox(children=(FloatProgress(value=0.0, max=2508.0), HTML(value='')))"
      ]
     },
     "metadata": {},
     "output_type": "display_data"
    },
    {
     "name": "stdout",
     "output_type": "stream",
     "text": [
      "\n"
     ]
    },
    {
     "data": {
      "application/vnd.jupyter.widget-view+json": {
       "model_id": "daa304b24c1741429baa537313f68f79",
       "version_major": 2,
       "version_minor": 0
      },
      "text/plain": [
       "HBox(children=(FloatProgress(value=0.0, max=2508.0), HTML(value='')))"
      ]
     },
     "metadata": {},
     "output_type": "display_data"
    },
    {
     "name": "stdout",
     "output_type": "stream",
     "text": [
      "\n"
     ]
    },
    {
     "data": {
      "application/vnd.jupyter.widget-view+json": {
       "model_id": "67c0b478e4e347eeb76260b7f4546a77",
       "version_major": 2,
       "version_minor": 0
      },
      "text/plain": [
       "HBox(children=(FloatProgress(value=0.0, max=2508.0), HTML(value='')))"
      ]
     },
     "metadata": {},
     "output_type": "display_data"
    },
    {
     "name": "stdout",
     "output_type": "stream",
     "text": [
      "\n"
     ]
    },
    {
     "data": {
      "application/vnd.jupyter.widget-view+json": {
       "model_id": "be605faa37e34775843c930e8e62c79a",
       "version_major": 2,
       "version_minor": 0
      },
      "text/plain": [
       "HBox(children=(FloatProgress(value=0.0, max=2508.0), HTML(value='')))"
      ]
     },
     "metadata": {},
     "output_type": "display_data"
    },
    {
     "name": "stdout",
     "output_type": "stream",
     "text": [
      "\n"
     ]
    },
    {
     "data": {
      "application/vnd.jupyter.widget-view+json": {
       "model_id": "f8b6242908f345bc8b0561ae7af9dea0",
       "version_major": 2,
       "version_minor": 0
      },
      "text/plain": [
       "HBox(children=(FloatProgress(value=0.0, max=2508.0), HTML(value='')))"
      ]
     },
     "metadata": {},
     "output_type": "display_data"
    },
    {
     "name": "stdout",
     "output_type": "stream",
     "text": [
      "\n"
     ]
    },
    {
     "data": {
      "application/vnd.jupyter.widget-view+json": {
       "model_id": "e3c9e27fc6974aa69a27d8421bdd24ad",
       "version_major": 2,
       "version_minor": 0
      },
      "text/plain": [
       "HBox(children=(FloatProgress(value=0.0, max=2508.0), HTML(value='')))"
      ]
     },
     "metadata": {},
     "output_type": "display_data"
    },
    {
     "name": "stdout",
     "output_type": "stream",
     "text": [
      "\n"
     ]
    },
    {
     "data": {
      "application/vnd.jupyter.widget-view+json": {
       "model_id": "7a99b5d866ed4d82959f71f849a543bd",
       "version_major": 2,
       "version_minor": 0
      },
      "text/plain": [
       "HBox(children=(FloatProgress(value=0.0, max=2508.0), HTML(value='')))"
      ]
     },
     "metadata": {},
     "output_type": "display_data"
    },
    {
     "name": "stdout",
     "output_type": "stream",
     "text": [
      "\n"
     ]
    },
    {
     "data": {
      "application/vnd.jupyter.widget-view+json": {
       "model_id": "50fdacc6e149436a82470ceca9cb96da",
       "version_major": 2,
       "version_minor": 0
      },
      "text/plain": [
       "HBox(children=(FloatProgress(value=0.0, max=2508.0), HTML(value='')))"
      ]
     },
     "metadata": {},
     "output_type": "display_data"
    },
    {
     "name": "stdout",
     "output_type": "stream",
     "text": [
      "\n"
     ]
    },
    {
     "data": {
      "application/vnd.jupyter.widget-view+json": {
       "model_id": "0f8aa39c22c147bdba1a0e021b55046a",
       "version_major": 2,
       "version_minor": 0
      },
      "text/plain": [
       "HBox(children=(FloatProgress(value=0.0, max=2508.0), HTML(value='')))"
      ]
     },
     "metadata": {},
     "output_type": "display_data"
    },
    {
     "name": "stdout",
     "output_type": "stream",
     "text": [
      "\n"
     ]
    },
    {
     "data": {
      "application/vnd.jupyter.widget-view+json": {
       "model_id": "e5fb059875b24f88954b004a054e6b1c",
       "version_major": 2,
       "version_minor": 0
      },
      "text/plain": [
       "HBox(children=(FloatProgress(value=0.0, max=2508.0), HTML(value='')))"
      ]
     },
     "metadata": {},
     "output_type": "display_data"
    },
    {
     "name": "stdout",
     "output_type": "stream",
     "text": [
      "\n"
     ]
    },
    {
     "data": {
      "application/vnd.jupyter.widget-view+json": {
       "model_id": "31b58d5f75a2416a9a34f23fe23153c0",
       "version_major": 2,
       "version_minor": 0
      },
      "text/plain": [
       "HBox(children=(FloatProgress(value=0.0, max=2508.0), HTML(value='')))"
      ]
     },
     "metadata": {},
     "output_type": "display_data"
    },
    {
     "name": "stdout",
     "output_type": "stream",
     "text": [
      "\n"
     ]
    },
    {
     "data": {
      "application/vnd.jupyter.widget-view+json": {
       "model_id": "84f41c4fab304328974f56fffb020e03",
       "version_major": 2,
       "version_minor": 0
      },
      "text/plain": [
       "HBox(children=(FloatProgress(value=0.0, max=2508.0), HTML(value='')))"
      ]
     },
     "metadata": {},
     "output_type": "display_data"
    },
    {
     "name": "stdout",
     "output_type": "stream",
     "text": [
      "\n"
     ]
    },
    {
     "data": {
      "application/vnd.jupyter.widget-view+json": {
       "model_id": "f2687afa353c49268289565ce2dc1213",
       "version_major": 2,
       "version_minor": 0
      },
      "text/plain": [
       "HBox(children=(FloatProgress(value=0.0, max=2508.0), HTML(value='')))"
      ]
     },
     "metadata": {},
     "output_type": "display_data"
    },
    {
     "name": "stdout",
     "output_type": "stream",
     "text": [
      "\n"
     ]
    },
    {
     "data": {
      "application/vnd.jupyter.widget-view+json": {
       "model_id": "2554b1e0be9e4eacb9c2efa4eaa1b9c2",
       "version_major": 2,
       "version_minor": 0
      },
      "text/plain": [
       "HBox(children=(FloatProgress(value=0.0, max=2508.0), HTML(value='')))"
      ]
     },
     "metadata": {},
     "output_type": "display_data"
    },
    {
     "name": "stdout",
     "output_type": "stream",
     "text": [
      "\n"
     ]
    },
    {
     "data": {
      "application/vnd.jupyter.widget-view+json": {
       "model_id": "36807bcf9ae84865820900fbd8fc1ab0",
       "version_major": 2,
       "version_minor": 0
      },
      "text/plain": [
       "HBox(children=(FloatProgress(value=0.0, max=2508.0), HTML(value='')))"
      ]
     },
     "metadata": {},
     "output_type": "display_data"
    },
    {
     "name": "stdout",
     "output_type": "stream",
     "text": [
      "\n"
     ]
    },
    {
     "data": {
      "application/vnd.jupyter.widget-view+json": {
       "model_id": "f740fe8164a94572976b71451f0552dd",
       "version_major": 2,
       "version_minor": 0
      },
      "text/plain": [
       "HBox(children=(FloatProgress(value=0.0, max=2508.0), HTML(value='')))"
      ]
     },
     "metadata": {},
     "output_type": "display_data"
    },
    {
     "name": "stdout",
     "output_type": "stream",
     "text": [
      "\n"
     ]
    },
    {
     "data": {
      "application/vnd.jupyter.widget-view+json": {
       "model_id": "4b3d23c6a11140a58890b23ba37ecfb6",
       "version_major": 2,
       "version_minor": 0
      },
      "text/plain": [
       "HBox(children=(FloatProgress(value=0.0, max=2508.0), HTML(value='')))"
      ]
     },
     "metadata": {},
     "output_type": "display_data"
    },
    {
     "name": "stdout",
     "output_type": "stream",
     "text": [
      "\n"
     ]
    },
    {
     "data": {
      "application/vnd.jupyter.widget-view+json": {
       "model_id": "ee356613f52a476eb3264d2f7c5d9eb8",
       "version_major": 2,
       "version_minor": 0
      },
      "text/plain": [
       "HBox(children=(FloatProgress(value=0.0, max=2508.0), HTML(value='')))"
      ]
     },
     "metadata": {},
     "output_type": "display_data"
    },
    {
     "name": "stdout",
     "output_type": "stream",
     "text": [
      "\n"
     ]
    },
    {
     "data": {
      "application/vnd.jupyter.widget-view+json": {
       "model_id": "15ba2fa924da49cbb14bbb34fac964f0",
       "version_major": 2,
       "version_minor": 0
      },
      "text/plain": [
       "HBox(children=(FloatProgress(value=0.0, max=2508.0), HTML(value='')))"
      ]
     },
     "metadata": {},
     "output_type": "display_data"
    },
    {
     "name": "stdout",
     "output_type": "stream",
     "text": [
      "\n"
     ]
    },
    {
     "data": {
      "application/vnd.jupyter.widget-view+json": {
       "model_id": "990247779e96441382dc577c30485f7c",
       "version_major": 2,
       "version_minor": 0
      },
      "text/plain": [
       "HBox(children=(FloatProgress(value=0.0, max=2508.0), HTML(value='')))"
      ]
     },
     "metadata": {},
     "output_type": "display_data"
    },
    {
     "name": "stdout",
     "output_type": "stream",
     "text": [
      "\n"
     ]
    },
    {
     "data": {
      "application/vnd.jupyter.widget-view+json": {
       "model_id": "3a2b87350b924596b5736b1b66313fc2",
       "version_major": 2,
       "version_minor": 0
      },
      "text/plain": [
       "HBox(children=(FloatProgress(value=0.0, max=2508.0), HTML(value='')))"
      ]
     },
     "metadata": {},
     "output_type": "display_data"
    },
    {
     "name": "stdout",
     "output_type": "stream",
     "text": [
      "\n"
     ]
    },
    {
     "data": {
      "application/vnd.jupyter.widget-view+json": {
       "model_id": "691a356d42054c5f93c8ccaabaa48ecc",
       "version_major": 2,
       "version_minor": 0
      },
      "text/plain": [
       "HBox(children=(FloatProgress(value=0.0, max=2508.0), HTML(value='')))"
      ]
     },
     "metadata": {},
     "output_type": "display_data"
    },
    {
     "name": "stdout",
     "output_type": "stream",
     "text": [
      "\n"
     ]
    },
    {
     "data": {
      "application/vnd.jupyter.widget-view+json": {
       "model_id": "4230c65ab52248779e304d1d42cd85f2",
       "version_major": 2,
       "version_minor": 0
      },
      "text/plain": [
       "HBox(children=(FloatProgress(value=0.0, max=2508.0), HTML(value='')))"
      ]
     },
     "metadata": {},
     "output_type": "display_data"
    },
    {
     "name": "stdout",
     "output_type": "stream",
     "text": [
      "\n"
     ]
    },
    {
     "data": {
      "application/vnd.jupyter.widget-view+json": {
       "model_id": "3bbbc671eaad4287a4d6131613e313ad",
       "version_major": 2,
       "version_minor": 0
      },
      "text/plain": [
       "HBox(children=(FloatProgress(value=0.0, max=2508.0), HTML(value='')))"
      ]
     },
     "metadata": {},
     "output_type": "display_data"
    },
    {
     "name": "stdout",
     "output_type": "stream",
     "text": [
      "\n",
      "\n"
     ]
    }
   ],
   "source": [
    "query_result = {}\n",
    "# For each query\n",
    "for query in tqdm_notebook(all_query):\n",
    "    query_image, (query_kp, query_des) = get_query_kp_des(query)\n",
    "    \n",
    "    result_array = []\n",
    "    # For each image\n",
    "    for key in tqdm_notebook(image_dict.keys()):\n",
    "        # check for the circumstances where the orb return no key point eg: ashmolean_000214.jpg\n",
    "        if des_dict[key] is not None:\n",
    "            matches = bf.match(query_des, des_dict[key])\n",
    "            matches = sorted(matches, key = lambda x:x.distance)\n",
    "        # count number of matches with dist less than a threshold\n",
    "        cnt = 0\n",
    "        for dist in [x.distance for x in matches]:\n",
    "            if dist < threshold:\n",
    "                cnt += 1\n",
    "\n",
    "        result_array.append((key, matches, cnt))\n",
    "    \n",
    "    # Rank the result accoring to the number of matched keypoint\n",
    "    result_array = sorted(result_array, key = lambda x : x[2], reverse = True)\n",
    "    \n",
    "    # Evaluate\n",
    "    AP, good, ok = get_AP(result_array, query, 5)\n",
    "    \n",
    "    query_result[query] = {\n",
    "        'good': good,\n",
    "        'ok': ok,\n",
    "        'AP': AP\n",
    "    }\n",
    "    \n",
    "    # Save the result\n",
    "    for index in range(1, 6):\n",
    "        cv2.imwrite(\n",
    "            f'data/result/{query[:-4]}_top_{index}.png',\n",
    "            cv2.drawMatches(\n",
    "            query_image,\n",
    "            query_kp,\n",
    "            image_dict[result_array[index][0]],\n",
    "            kp_dict[result_array[index][0]],\n",
    "            result_array[index][1][:result_array[index][2]],\n",
    "            None,\n",
    "            flags=2)\n",
    "        )"
   ]
  },
  {
   "cell_type": "markdown",
   "metadata": {},
   "source": [
    "Compute mAP over 55 query"
   ]
  },
  {
   "cell_type": "code",
   "execution_count": 19,
   "metadata": {},
   "outputs": [
    {
     "name": "stdout",
     "output_type": "stream",
     "text": [
      "mAP: 0.44\n"
     ]
    }
   ],
   "source": [
    "sum_AP = 0\n",
    "for result in query_result:\n",
    "    sum_AP += query_result[result]['AP']\n",
    "    \n",
    "print('mAP: %0.2f' % (sum_AP/len(query_result)))"
   ]
  },
  {
   "cell_type": "code",
   "execution_count": 20,
   "metadata": {
    "scrolled": true
   },
   "outputs": [
    {
     "data": {
      "text/plain": [
       "{'all_souls_1_query.txt': {'good': 0, 'ok': 1, 'AP': 0.2},\n",
       " 'all_souls_2_query.txt': {'good': 4, 'ok': 1, 'AP': 1.0},\n",
       " 'all_souls_3_query.txt': {'good': 4, 'ok': 1, 'AP': 1.0},\n",
       " 'all_souls_4_query.txt': {'good': 0, 'ok': 5, 'AP': 1.0},\n",
       " 'all_souls_5_query.txt': {'good': 1, 'ok': 2, 'AP': 0.6},\n",
       " 'ashmolean_1_query.txt': {'good': 1, 'ok': 0, 'AP': 0.2},\n",
       " 'ashmolean_2_query.txt': {'good': 3, 'ok': 0, 'AP': 0.6},\n",
       " 'ashmolean_3_query.txt': {'good': 1, 'ok': 1, 'AP': 0.4},\n",
       " 'ashmolean_4_query.txt': {'good': 1, 'ok': 1, 'AP': 0.4},\n",
       " 'ashmolean_5_query.txt': {'good': 1, 'ok': 1, 'AP': 0.4},\n",
       " 'balliol_1_query.txt': {'good': 0, 'ok': 0, 'AP': 0.0},\n",
       " 'balliol_2_query.txt': {'good': 0, 'ok': 1, 'AP': 0.2},\n",
       " 'balliol_3_query.txt': {'good': 0, 'ok': 0, 'AP': 0.0},\n",
       " 'balliol_4_query.txt': {'good': 0, 'ok': 1, 'AP': 0.2},\n",
       " 'balliol_5_query.txt': {'good': 0, 'ok': 1, 'AP': 0.2},\n",
       " 'bodleian_1_query.txt': {'good': 0, 'ok': 0, 'AP': 0.0},\n",
       " 'bodleian_2_query.txt': {'good': 2, 'ok': 1, 'AP': 0.6},\n",
       " 'bodleian_3_query.txt': {'good': 2, 'ok': 1, 'AP': 0.6},\n",
       " 'bodleian_4_query.txt': {'good': 0, 'ok': 0, 'AP': 0.0},\n",
       " 'bodleian_5_query.txt': {'good': 1, 'ok': 0, 'AP': 0.2},\n",
       " 'christ_church_1_query.txt': {'good': 3, 'ok': 1, 'AP': 0.8},\n",
       " 'christ_church_2_query.txt': {'good': 1, 'ok': 0, 'AP': 0.2},\n",
       " 'christ_church_3_query.txt': {'good': 1, 'ok': 1, 'AP': 0.4},\n",
       " 'christ_church_4_query.txt': {'good': 1, 'ok': 0, 'AP': 0.2},\n",
       " 'christ_church_5_query.txt': {'good': 0, 'ok': 1, 'AP': 0.2},\n",
       " 'cornmarket_1_query.txt': {'good': 1, 'ok': 0, 'AP': 0.2},\n",
       " 'cornmarket_2_query.txt': {'good': 0, 'ok': 1, 'AP': 0.2},\n",
       " 'cornmarket_3_query.txt': {'good': 1, 'ok': 0, 'AP': 0.2},\n",
       " 'cornmarket_4_query.txt': {'good': 1, 'ok': 0, 'AP': 0.2},\n",
       " 'cornmarket_5_query.txt': {'good': 1, 'ok': 1, 'AP': 0.4},\n",
       " 'hertford_1_query.txt': {'good': 4, 'ok': 1, 'AP': 1.0},\n",
       " 'hertford_2_query.txt': {'good': 5, 'ok': 0, 'AP': 1.0},\n",
       " 'hertford_3_query.txt': {'good': 4, 'ok': 1, 'AP': 1.0},\n",
       " 'hertford_4_query.txt': {'good': 5, 'ok': 0, 'AP': 1.0},\n",
       " 'hertford_5_query.txt': {'good': 4, 'ok': 0, 'AP': 0.8},\n",
       " 'keble_1_query.txt': {'good': 1, 'ok': 0, 'AP': 0.2},\n",
       " 'keble_2_query.txt': {'good': 0, 'ok': 0, 'AP': 0.0},\n",
       " 'keble_3_query.txt': {'good': 0, 'ok': 0, 'AP': 0.0},\n",
       " 'keble_4_query.txt': {'good': 0, 'ok': 0, 'AP': 0.0},\n",
       " 'keble_5_query.txt': {'good': 0, 'ok': 0, 'AP': 0.0},\n",
       " 'magdalen_1_query.txt': {'good': 0, 'ok': 0, 'AP': 0.0},\n",
       " 'magdalen_2_query.txt': {'good': 0, 'ok': 3, 'AP': 0.6},\n",
       " 'magdalen_3_query.txt': {'good': 1, 'ok': 3, 'AP': 0.8},\n",
       " 'magdalen_4_query.txt': {'good': 0, 'ok': 0, 'AP': 0.0},\n",
       " 'magdalen_5_query.txt': {'good': 1, 'ok': 1, 'AP': 0.4},\n",
       " 'pitt_rivers_1_query.txt': {'good': 0, 'ok': 0, 'AP': 0.0},\n",
       " 'pitt_rivers_2_query.txt': {'good': 1, 'ok': 2, 'AP': 0.6},\n",
       " 'pitt_rivers_3_query.txt': {'good': 1, 'ok': 0, 'AP': 0.2},\n",
       " 'pitt_rivers_4_query.txt': {'good': 1, 'ok': 2, 'AP': 0.6},\n",
       " 'pitt_rivers_5_query.txt': {'good': 1, 'ok': 2, 'AP': 0.6},\n",
       " 'radcliffe_camera_1_query.txt': {'good': 5, 'ok': 0, 'AP': 1.0},\n",
       " 'radcliffe_camera_2_query.txt': {'good': 2, 'ok': 3, 'AP': 1.0},\n",
       " 'radcliffe_camera_3_query.txt': {'good': 5, 'ok': 0, 'AP': 1.0},\n",
       " 'radcliffe_camera_4_query.txt': {'good': 2, 'ok': 2, 'AP': 0.8},\n",
       " 'radcliffe_camera_5_query.txt': {'good': 5, 'ok': 0, 'AP': 1.0}}"
      ]
     },
     "execution_count": 20,
     "metadata": {},
     "output_type": "execute_result"
    }
   ],
   "source": [
    "query_result"
   ]
  },
  {
   "cell_type": "code",
   "execution_count": null,
   "metadata": {},
   "outputs": [],
   "source": []
  }
 ],
 "metadata": {
  "kernelspec": {
   "display_name": "Python 3",
   "language": "python",
   "name": "python3"
  },
  "language_info": {
   "codemirror_mode": {
    "name": "ipython",
    "version": 3
   },
   "file_extension": ".py",
   "mimetype": "text/x-python",
   "name": "python",
   "nbconvert_exporter": "python",
   "pygments_lexer": "ipython3",
   "version": "3.6.3"
  }
 },
 "nbformat": 4,
 "nbformat_minor": 2
}
